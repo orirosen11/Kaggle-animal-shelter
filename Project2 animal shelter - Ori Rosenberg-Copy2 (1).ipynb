{
 "cells": [
  {
   "cell_type": "code",
   "execution_count": 5,
   "metadata": {},
   "outputs": [],
   "source": [
    "import numpy as np\n",
    "import pandas as pd\n",
    "from pandas.api.types import CategoricalDtype\n",
    "import matplotlib.pyplot as plt\n",
    "import seaborn as sns\n",
    "from time import time\n",
    "from os import getcwd"
   ]
  },
  {
   "cell_type": "markdown",
   "metadata": {},
   "source": [
    "# Getting the data & basic stats"
   ]
  },
  {
   "cell_type": "code",
   "execution_count": 265,
   "metadata": {},
   "outputs": [],
   "source": [
    "df_data = pd.read_csv(getcwd() + \"\\\\train.csv\", \n",
    "                    index_col='AnimalID')"
   ]
  },
  {
   "cell_type": "code",
   "execution_count": 266,
   "metadata": {},
   "outputs": [
    {
     "data": {
      "text/html": [
       "<div>\n",
       "<style scoped>\n",
       "    .dataframe tbody tr th:only-of-type {\n",
       "        vertical-align: middle;\n",
       "    }\n",
       "\n",
       "    .dataframe tbody tr th {\n",
       "        vertical-align: top;\n",
       "    }\n",
       "\n",
       "    .dataframe thead th {\n",
       "        text-align: right;\n",
       "    }\n",
       "</style>\n",
       "<table border=\"1\" class=\"dataframe\">\n",
       "  <thead>\n",
       "    <tr style=\"text-align: right;\">\n",
       "      <th></th>\n",
       "      <th>Name</th>\n",
       "      <th>DateTime</th>\n",
       "      <th>OutcomeType</th>\n",
       "      <th>OutcomeSubtype</th>\n",
       "      <th>AnimalType</th>\n",
       "      <th>SexuponOutcome</th>\n",
       "      <th>AgeuponOutcome</th>\n",
       "      <th>Breed</th>\n",
       "      <th>Color</th>\n",
       "    </tr>\n",
       "    <tr>\n",
       "      <th>AnimalID</th>\n",
       "      <th></th>\n",
       "      <th></th>\n",
       "      <th></th>\n",
       "      <th></th>\n",
       "      <th></th>\n",
       "      <th></th>\n",
       "      <th></th>\n",
       "      <th></th>\n",
       "      <th></th>\n",
       "    </tr>\n",
       "  </thead>\n",
       "  <tbody>\n",
       "    <tr>\n",
       "      <th>A671945</th>\n",
       "      <td>Hambone</td>\n",
       "      <td>2014-02-12 18:22:00</td>\n",
       "      <td>Return_to_owner</td>\n",
       "      <td>NaN</td>\n",
       "      <td>Dog</td>\n",
       "      <td>Neutered Male</td>\n",
       "      <td>1 year</td>\n",
       "      <td>Shetland Sheepdog Mix</td>\n",
       "      <td>Brown/White</td>\n",
       "    </tr>\n",
       "    <tr>\n",
       "      <th>A656520</th>\n",
       "      <td>Emily</td>\n",
       "      <td>2013-10-13 12:44:00</td>\n",
       "      <td>Euthanasia</td>\n",
       "      <td>Suffering</td>\n",
       "      <td>Cat</td>\n",
       "      <td>Spayed Female</td>\n",
       "      <td>1 year</td>\n",
       "      <td>Domestic Shorthair Mix</td>\n",
       "      <td>Cream Tabby</td>\n",
       "    </tr>\n",
       "    <tr>\n",
       "      <th>A686464</th>\n",
       "      <td>Pearce</td>\n",
       "      <td>2015-01-31 12:28:00</td>\n",
       "      <td>Adoption</td>\n",
       "      <td>Foster</td>\n",
       "      <td>Dog</td>\n",
       "      <td>Neutered Male</td>\n",
       "      <td>2 years</td>\n",
       "      <td>Pit Bull Mix</td>\n",
       "      <td>Blue/White</td>\n",
       "    </tr>\n",
       "    <tr>\n",
       "      <th>A683430</th>\n",
       "      <td>NaN</td>\n",
       "      <td>2014-07-11 19:09:00</td>\n",
       "      <td>Transfer</td>\n",
       "      <td>Partner</td>\n",
       "      <td>Cat</td>\n",
       "      <td>Intact Male</td>\n",
       "      <td>3 weeks</td>\n",
       "      <td>Domestic Shorthair Mix</td>\n",
       "      <td>Blue Cream</td>\n",
       "    </tr>\n",
       "    <tr>\n",
       "      <th>A667013</th>\n",
       "      <td>NaN</td>\n",
       "      <td>2013-11-15 12:52:00</td>\n",
       "      <td>Transfer</td>\n",
       "      <td>Partner</td>\n",
       "      <td>Dog</td>\n",
       "      <td>Neutered Male</td>\n",
       "      <td>2 years</td>\n",
       "      <td>Lhasa Apso/Miniature Poodle</td>\n",
       "      <td>Tan</td>\n",
       "    </tr>\n",
       "  </tbody>\n",
       "</table>\n",
       "</div>"
      ],
      "text/plain": [
       "             Name             DateTime      OutcomeType OutcomeSubtype  \\\n",
       "AnimalID                                                                 \n",
       "A671945   Hambone  2014-02-12 18:22:00  Return_to_owner            NaN   \n",
       "A656520     Emily  2013-10-13 12:44:00       Euthanasia      Suffering   \n",
       "A686464    Pearce  2015-01-31 12:28:00         Adoption         Foster   \n",
       "A683430       NaN  2014-07-11 19:09:00         Transfer        Partner   \n",
       "A667013       NaN  2013-11-15 12:52:00         Transfer        Partner   \n",
       "\n",
       "         AnimalType SexuponOutcome AgeuponOutcome  \\\n",
       "AnimalID                                            \n",
       "A671945         Dog  Neutered Male         1 year   \n",
       "A656520         Cat  Spayed Female         1 year   \n",
       "A686464         Dog  Neutered Male        2 years   \n",
       "A683430         Cat    Intact Male        3 weeks   \n",
       "A667013         Dog  Neutered Male        2 years   \n",
       "\n",
       "                                Breed        Color  \n",
       "AnimalID                                            \n",
       "A671945         Shetland Sheepdog Mix  Brown/White  \n",
       "A656520        Domestic Shorthair Mix  Cream Tabby  \n",
       "A686464                  Pit Bull Mix   Blue/White  \n",
       "A683430        Domestic Shorthair Mix   Blue Cream  \n",
       "A667013   Lhasa Apso/Miniature Poodle          Tan  "
      ]
     },
     "execution_count": 266,
     "metadata": {},
     "output_type": "execute_result"
    }
   ],
   "source": [
    "df_data.head()"
   ]
  },
  {
   "cell_type": "code",
   "execution_count": 267,
   "metadata": {},
   "outputs": [
    {
     "data": {
      "text/html": [
       "<div>\n",
       "<style scoped>\n",
       "    .dataframe tbody tr th:only-of-type {\n",
       "        vertical-align: middle;\n",
       "    }\n",
       "\n",
       "    .dataframe tbody tr th {\n",
       "        vertical-align: top;\n",
       "    }\n",
       "\n",
       "    .dataframe thead th {\n",
       "        text-align: right;\n",
       "    }\n",
       "</style>\n",
       "<table border=\"1\" class=\"dataframe\">\n",
       "  <thead>\n",
       "    <tr style=\"text-align: right;\">\n",
       "      <th></th>\n",
       "      <th>Name</th>\n",
       "      <th>DateTime</th>\n",
       "      <th>OutcomeType</th>\n",
       "      <th>OutcomeSubtype</th>\n",
       "      <th>AnimalType</th>\n",
       "      <th>SexuponOutcome</th>\n",
       "      <th>AgeuponOutcome</th>\n",
       "      <th>Breed</th>\n",
       "      <th>Color</th>\n",
       "    </tr>\n",
       "  </thead>\n",
       "  <tbody>\n",
       "    <tr>\n",
       "      <th>count</th>\n",
       "      <td>19038</td>\n",
       "      <td>26729</td>\n",
       "      <td>26729</td>\n",
       "      <td>13117</td>\n",
       "      <td>26729</td>\n",
       "      <td>26728</td>\n",
       "      <td>26711</td>\n",
       "      <td>26729</td>\n",
       "      <td>26729</td>\n",
       "    </tr>\n",
       "    <tr>\n",
       "      <th>unique</th>\n",
       "      <td>6374</td>\n",
       "      <td>22918</td>\n",
       "      <td>5</td>\n",
       "      <td>16</td>\n",
       "      <td>2</td>\n",
       "      <td>5</td>\n",
       "      <td>44</td>\n",
       "      <td>1380</td>\n",
       "      <td>366</td>\n",
       "    </tr>\n",
       "    <tr>\n",
       "      <th>top</th>\n",
       "      <td>Max</td>\n",
       "      <td>2015-08-11 00:00:00</td>\n",
       "      <td>Adoption</td>\n",
       "      <td>Partner</td>\n",
       "      <td>Dog</td>\n",
       "      <td>Neutered Male</td>\n",
       "      <td>1 year</td>\n",
       "      <td>Domestic Shorthair Mix</td>\n",
       "      <td>Black/White</td>\n",
       "    </tr>\n",
       "    <tr>\n",
       "      <th>freq</th>\n",
       "      <td>136</td>\n",
       "      <td>19</td>\n",
       "      <td>10769</td>\n",
       "      <td>7816</td>\n",
       "      <td>15595</td>\n",
       "      <td>9779</td>\n",
       "      <td>3969</td>\n",
       "      <td>8810</td>\n",
       "      <td>2824</td>\n",
       "    </tr>\n",
       "  </tbody>\n",
       "</table>\n",
       "</div>"
      ],
      "text/plain": [
       "         Name             DateTime OutcomeType OutcomeSubtype AnimalType  \\\n",
       "count   19038                26729       26729          13117      26729   \n",
       "unique   6374                22918           5             16          2   \n",
       "top       Max  2015-08-11 00:00:00    Adoption        Partner        Dog   \n",
       "freq      136                   19       10769           7816      15595   \n",
       "\n",
       "       SexuponOutcome AgeuponOutcome                   Breed        Color  \n",
       "count           26728          26711                   26729        26729  \n",
       "unique              5             44                    1380          366  \n",
       "top     Neutered Male         1 year  Domestic Shorthair Mix  Black/White  \n",
       "freq             9779           3969                    8810         2824  "
      ]
     },
     "execution_count": 267,
     "metadata": {},
     "output_type": "execute_result"
    }
   ],
   "source": [
    "df_data.describe()"
   ]
  },
  {
   "cell_type": "code",
   "execution_count": 268,
   "metadata": {},
   "outputs": [
    {
     "data": {
      "text/plain": [
       "26729"
      ]
     },
     "execution_count": 268,
     "metadata": {},
     "output_type": "execute_result"
    }
   ],
   "source": [
    "df_data.index.nunique()"
   ]
  },
  {
   "cell_type": "markdown",
   "metadata": {},
   "source": [
    " "
   ]
  },
  {
   "cell_type": "markdown",
   "metadata": {},
   "source": [
    "# Filtering null data"
   ]
  },
  {
   "cell_type": "code",
   "execution_count": 269,
   "metadata": {},
   "outputs": [
    {
     "name": "stdout",
     "output_type": "stream",
     "text": [
      "(26729, 9)\n",
      "(26728, 9)\n",
      "(26710, 9)\n"
     ]
    }
   ],
   "source": [
    "print(df_data.shape)\n",
    "df_data = df_data.loc[df_data['SexuponOutcome'].notnull()]\n",
    "print(df_data.shape)\n",
    "df_data = df_data.loc[df_data['AgeuponOutcome'].notnull()]\n",
    "print(df_data.shape)"
   ]
  },
  {
   "cell_type": "markdown",
   "metadata": {},
   "source": [
    "Overall 19 null values filtered, 1 from sex, rest from age. not a major data loss."
   ]
  },
  {
   "cell_type": "markdown",
   "metadata": {},
   "source": [
    " "
   ]
  },
  {
   "cell_type": "code",
   "execution_count": 270,
   "metadata": {},
   "outputs": [
    {
     "data": {
      "text/plain": [
       "Dog    15593\n",
       "Cat    11117\n",
       "Name: AnimalType, dtype: int64"
      ]
     },
     "execution_count": 270,
     "metadata": {},
     "output_type": "execute_result"
    }
   ],
   "source": [
    "df_data.AnimalType.value_counts()"
   ]
  },
  {
   "cell_type": "markdown",
   "metadata": {},
   "source": [
    "# Outcome vs other variables"
   ]
  },
  {
   "cell_type": "code",
   "execution_count": 271,
   "metadata": {},
   "outputs": [
    {
     "data": {
      "text/html": [
       "<div>\n",
       "<style scoped>\n",
       "    .dataframe tbody tr th:only-of-type {\n",
       "        vertical-align: middle;\n",
       "    }\n",
       "\n",
       "    .dataframe tbody tr th {\n",
       "        vertical-align: top;\n",
       "    }\n",
       "\n",
       "    .dataframe thead th {\n",
       "        text-align: right;\n",
       "    }\n",
       "</style>\n",
       "<table border=\"1\" class=\"dataframe\">\n",
       "  <thead>\n",
       "    <tr style=\"text-align: right;\">\n",
       "      <th>SexuponOutcome</th>\n",
       "      <th>Intact Female</th>\n",
       "      <th>Intact Male</th>\n",
       "      <th>Neutered Male</th>\n",
       "      <th>Spayed Female</th>\n",
       "      <th>Unknown</th>\n",
       "    </tr>\n",
       "    <tr>\n",
       "      <th>OutcomeType</th>\n",
       "      <th></th>\n",
       "      <th></th>\n",
       "      <th></th>\n",
       "      <th></th>\n",
       "      <th></th>\n",
       "    </tr>\n",
       "  </thead>\n",
       "  <tbody>\n",
       "    <tr>\n",
       "      <th>Adoption</th>\n",
       "      <td>0.057934</td>\n",
       "      <td>0.044899</td>\n",
       "      <td>0.534001</td>\n",
       "      <td>0.588049</td>\n",
       "      <td>0.000000</td>\n",
       "    </tr>\n",
       "    <tr>\n",
       "      <th>Died</th>\n",
       "      <td>0.015982</td>\n",
       "      <td>0.022450</td>\n",
       "      <td>0.001943</td>\n",
       "      <td>0.002041</td>\n",
       "      <td>0.022957</td>\n",
       "    </tr>\n",
       "    <tr>\n",
       "      <th>Euthanasia</th>\n",
       "      <td>0.114441</td>\n",
       "      <td>0.134982</td>\n",
       "      <td>0.035177</td>\n",
       "      <td>0.026307</td>\n",
       "      <td>0.092746</td>\n",
       "    </tr>\n",
       "    <tr>\n",
       "      <th>Return_to_owner</th>\n",
       "      <td>0.085902</td>\n",
       "      <td>0.135550</td>\n",
       "      <td>0.229778</td>\n",
       "      <td>0.198208</td>\n",
       "      <td>0.011019</td>\n",
       "    </tr>\n",
       "    <tr>\n",
       "      <th>Transfer</th>\n",
       "      <td>0.725742</td>\n",
       "      <td>0.662120</td>\n",
       "      <td>0.199100</td>\n",
       "      <td>0.185395</td>\n",
       "      <td>0.873278</td>\n",
       "    </tr>\n",
       "  </tbody>\n",
       "</table>\n",
       "</div>"
      ],
      "text/plain": [
       "SexuponOutcome   Intact Female  Intact Male  Neutered Male  Spayed Female  \\\n",
       "OutcomeType                                                                 \n",
       "Adoption              0.057934     0.044899       0.534001       0.588049   \n",
       "Died                  0.015982     0.022450       0.001943       0.002041   \n",
       "Euthanasia            0.114441     0.134982       0.035177       0.026307   \n",
       "Return_to_owner       0.085902     0.135550       0.229778       0.198208   \n",
       "Transfer              0.725742     0.662120       0.199100       0.185395   \n",
       "\n",
       "SexuponOutcome    Unknown  \n",
       "OutcomeType                \n",
       "Adoption         0.000000  \n",
       "Died             0.022957  \n",
       "Euthanasia       0.092746  \n",
       "Return_to_owner  0.011019  \n",
       "Transfer         0.873278  "
      ]
     },
     "execution_count": 271,
     "metadata": {},
     "output_type": "execute_result"
    }
   ],
   "source": [
    "pd.crosstab(index=df_data.OutcomeType, columns=df_data.SexuponOutcome,normalize='columns')"
   ]
  },
  {
   "cell_type": "markdown",
   "metadata": {},
   "source": [
    "Not suprisingly neutered animals has higher chance to survive both by adoption or by return of owner.\n",
    "Unneutered animals require additional 'investment' from the owner so they are less wanted"
   ]
  },
  {
   "cell_type": "code",
   "execution_count": 272,
   "metadata": {
    "scrolled": false
   },
   "outputs": [
    {
     "data": {
      "text/html": [
       "<div>\n",
       "<style scoped>\n",
       "    .dataframe tbody tr th:only-of-type {\n",
       "        vertical-align: middle;\n",
       "    }\n",
       "\n",
       "    .dataframe tbody tr th {\n",
       "        vertical-align: top;\n",
       "    }\n",
       "\n",
       "    .dataframe thead th {\n",
       "        text-align: right;\n",
       "    }\n",
       "</style>\n",
       "<table border=\"1\" class=\"dataframe\">\n",
       "  <thead>\n",
       "    <tr style=\"text-align: right;\">\n",
       "      <th>OutcomeType</th>\n",
       "      <th>Adoption</th>\n",
       "      <th>Died</th>\n",
       "      <th>Euthanasia</th>\n",
       "      <th>Return_to_owner</th>\n",
       "      <th>Transfer</th>\n",
       "    </tr>\n",
       "    <tr>\n",
       "      <th>SexuponOutcome</th>\n",
       "      <th></th>\n",
       "      <th></th>\n",
       "      <th></th>\n",
       "      <th></th>\n",
       "      <th></th>\n",
       "    </tr>\n",
       "  </thead>\n",
       "  <tbody>\n",
       "    <tr>\n",
       "      <th>Intact Female</th>\n",
       "      <td>0.018850</td>\n",
       "      <td>0.284264</td>\n",
       "      <td>0.258210</td>\n",
       "      <td>0.062905</td>\n",
       "      <td>0.270359</td>\n",
       "    </tr>\n",
       "    <tr>\n",
       "      <th>Intact Male</th>\n",
       "      <td>0.014672</td>\n",
       "      <td>0.401015</td>\n",
       "      <td>0.305860</td>\n",
       "      <td>0.099687</td>\n",
       "      <td>0.247714</td>\n",
       "    </tr>\n",
       "    <tr>\n",
       "      <th>Neutered Male</th>\n",
       "      <td>0.484910</td>\n",
       "      <td>0.096447</td>\n",
       "      <td>0.221507</td>\n",
       "      <td>0.469592</td>\n",
       "      <td>0.206996</td>\n",
       "    </tr>\n",
       "    <tr>\n",
       "      <th>Spayed Female</th>\n",
       "      <td>0.481567</td>\n",
       "      <td>0.091371</td>\n",
       "      <td>0.149388</td>\n",
       "      <td>0.365308</td>\n",
       "      <td>0.173825</td>\n",
       "    </tr>\n",
       "    <tr>\n",
       "      <th>Unknown</th>\n",
       "      <td>0.000000</td>\n",
       "      <td>0.126904</td>\n",
       "      <td>0.065035</td>\n",
       "      <td>0.002508</td>\n",
       "      <td>0.101106</td>\n",
       "    </tr>\n",
       "  </tbody>\n",
       "</table>\n",
       "</div>"
      ],
      "text/plain": [
       "OutcomeType     Adoption      Died  Euthanasia  Return_to_owner  Transfer\n",
       "SexuponOutcome                                                           \n",
       "Intact Female   0.018850  0.284264    0.258210         0.062905  0.270359\n",
       "Intact Male     0.014672  0.401015    0.305860         0.099687  0.247714\n",
       "Neutered Male   0.484910  0.096447    0.221507         0.469592  0.206996\n",
       "Spayed Female   0.481567  0.091371    0.149388         0.365308  0.173825\n",
       "Unknown         0.000000  0.126904    0.065035         0.002508  0.101106"
      ]
     },
     "execution_count": 272,
     "metadata": {},
     "output_type": "execute_result"
    }
   ],
   "source": [
    "pd.crosstab(index=df_data.SexuponOutcome, columns=df_data.OutcomeType,normalize='columns')"
   ]
  },
  {
   "cell_type": "markdown",
   "metadata": {},
   "source": [
    " "
   ]
  },
  {
   "cell_type": "code",
   "execution_count": 273,
   "metadata": {},
   "outputs": [
    {
     "data": {
      "text/html": [
       "<div>\n",
       "<style scoped>\n",
       "    .dataframe tbody tr th:only-of-type {\n",
       "        vertical-align: middle;\n",
       "    }\n",
       "\n",
       "    .dataframe tbody tr th {\n",
       "        vertical-align: top;\n",
       "    }\n",
       "\n",
       "    .dataframe thead th {\n",
       "        text-align: right;\n",
       "    }\n",
       "</style>\n",
       "<table border=\"1\" class=\"dataframe\">\n",
       "  <thead>\n",
       "    <tr style=\"text-align: right;\">\n",
       "      <th>AnimalType</th>\n",
       "      <th>Cat</th>\n",
       "      <th>Dog</th>\n",
       "    </tr>\n",
       "    <tr>\n",
       "      <th>OutcomeType</th>\n",
       "      <th></th>\n",
       "      <th></th>\n",
       "    </tr>\n",
       "  </thead>\n",
       "  <tbody>\n",
       "    <tr>\n",
       "      <th>Adoption</th>\n",
       "      <td>0.384276</td>\n",
       "      <td>0.416661</td>\n",
       "    </tr>\n",
       "    <tr>\n",
       "      <th>Died</th>\n",
       "      <td>0.013223</td>\n",
       "      <td>0.003207</td>\n",
       "    </tr>\n",
       "    <tr>\n",
       "      <th>Euthanasia</th>\n",
       "      <td>0.063776</td>\n",
       "      <td>0.054127</td>\n",
       "    </tr>\n",
       "    <tr>\n",
       "      <th>Return_to_owner</th>\n",
       "      <td>0.044976</td>\n",
       "      <td>0.274803</td>\n",
       "    </tr>\n",
       "    <tr>\n",
       "      <th>Transfer</th>\n",
       "      <td>0.493748</td>\n",
       "      <td>0.251202</td>\n",
       "    </tr>\n",
       "  </tbody>\n",
       "</table>\n",
       "</div>"
      ],
      "text/plain": [
       "AnimalType            Cat       Dog\n",
       "OutcomeType                        \n",
       "Adoption         0.384276  0.416661\n",
       "Died             0.013223  0.003207\n",
       "Euthanasia       0.063776  0.054127\n",
       "Return_to_owner  0.044976  0.274803\n",
       "Transfer         0.493748  0.251202"
      ]
     },
     "execution_count": 273,
     "metadata": {},
     "output_type": "execute_result"
    }
   ],
   "source": [
    "pd.crosstab(index=df_data.OutcomeType, columns=df_data.AnimalType,normalize='columns')"
   ]
  },
  {
   "cell_type": "markdown",
   "metadata": {},
   "source": [
    "Interestingly, owners are more likely to return to thier cats, while adopters slightly favor dogs"
   ]
  },
  {
   "cell_type": "markdown",
   "metadata": {},
   "source": [
    "  "
   ]
  },
  {
   "cell_type": "markdown",
   "metadata": {},
   "source": [
    "# Outcome vs age"
   ]
  },
  {
   "cell_type": "code",
   "execution_count": 274,
   "metadata": {},
   "outputs": [
    {
     "data": {
      "text/plain": [
       "array(['1 year', '2 years', '3 weeks', '1 month', '5 months', '4 years',\n",
       "       '3 months', '2 weeks', '2 months', '10 months', '6 months',\n",
       "       '5 years', '7 years', '3 years', '4 months', '12 years', '9 years',\n",
       "       '6 years', '1 weeks', '11 years', '4 weeks', '7 months', '8 years',\n",
       "       '11 months', '4 days', '9 months', '8 months', '15 years',\n",
       "       '10 years', '1 week', '0 years', '14 years', '3 days', '6 days',\n",
       "       '5 days', '5 weeks', '2 days', '16 years', '1 day', '13 years',\n",
       "       '17 years', '18 years', '19 years', '20 years'], dtype=object)"
      ]
     },
     "execution_count": 274,
     "metadata": {},
     "output_type": "execute_result"
    }
   ],
   "source": [
    "df_data.AgeuponOutcome.unique()"
   ]
  },
  {
   "cell_type": "code",
   "execution_count": 275,
   "metadata": {},
   "outputs": [],
   "source": [
    "age_years_d = [1, 2, 21/365, 1/12, 5/12, 4, 3/12, 12/365, 2/12, 10/12, 6/12,5, 7, 3, 4/12, 12, 9, 6, 7/365, 11, 28/365, 7/12, 8, \n",
    "       11/12, 4/365, 9/12, 8/12, 15, 10, 7/365, 0, 14, 3/365, 6/365, 5/365, 35/365, 2/365, 16, 1/365, 13, 17, 18, 19, 20]\n",
    "age_years = zip(df_data.AgeuponOutcome.unique(), age_years_d)\n",
    "years_fixed = {k:v for k,v in age_years}\n",
    "df_data['AgeNumber'] = df_data.AgeuponOutcome.map(years_fixed)"
   ]
  },
  {
   "cell_type": "code",
   "execution_count": 276,
   "metadata": {},
   "outputs": [
    {
     "data": {
      "text/plain": [
       "array(['Return_to_owner', 'Euthanasia', 'Adoption', 'Transfer', 'Died'],\n",
       "      dtype=object)"
      ]
     },
     "execution_count": 276,
     "metadata": {},
     "output_type": "execute_result"
    }
   ],
   "source": [
    "df_data.OutcomeType.unique()"
   ]
  },
  {
   "cell_type": "code",
   "execution_count": 277,
   "metadata": {},
   "outputs": [
    {
     "data": {
      "image/png": "[encoded data removed]",
      "text/plain": [
       "<matplotlib.figure.Figure at 0x1dddd9515f8>"
      ]
     },
     "metadata": {},
     "output_type": "display_data"
    }
   ],
   "source": [
    "df_adopted = df_data.loc[df_data['OutcomeType']=='Return_to_owner']\n",
    "plt = df_adopted.groupby('AgeNumber')['AgeNumber'].count().plot(figsize =(25,5), xticks=df_data.AgeNumber.unique())"
   ]
  },
  {
   "cell_type": "code",
   "execution_count": 278,
   "metadata": {},
   "outputs": [
    {
     "data": {
      "image/png": "[encoded data removed]",
      "text/plain": [
       "<matplotlib.figure.Figure at 0x1dddf98e710>"
      ]
     },
     "metadata": {},
     "output_type": "display_data"
    }
   ],
   "source": [
    "df_adopted = df_data.loc[df_data['OutcomeType']=='Euthanasia']\n",
    "plt = df_adopted.groupby('AgeNumber')['AgeNumber'].count().plot(figsize =(25,5), xticks=df_data.AgeNumber.unique())"
   ]
  },
  {
   "cell_type": "code",
   "execution_count": 279,
   "metadata": {},
   "outputs": [
    {
     "data": {
      "image/png": "[encoded data removed]",
      "text/plain": [
       "<matplotlib.figure.Figure at 0x1dddf9d2160>"
      ]
     },
     "metadata": {},
     "output_type": "display_data"
    }
   ],
   "source": [
    "df_adopted = df_data.loc[df_data['OutcomeType']=='Adoption']\n",
    "plt = df_adopted.groupby('AgeNumber')['AgeNumber'].count().plot(figsize =(25,5), xticks=df_data.AgeNumber.unique())"
   ]
  },
  {
   "cell_type": "code",
   "execution_count": 280,
   "metadata": {},
   "outputs": [
    {
     "data": {
      "image/png": "[encoded data removed]",
      "text/plain": [
       "<matplotlib.figure.Figure at 0x1dddfa20278>"
      ]
     },
     "metadata": {},
     "output_type": "display_data"
    }
   ],
   "source": [
    "df_adopted = df_data.loc[df_data['OutcomeType']=='Transfer']\n",
    "plt = df_adopted.groupby('AgeNumber')['AgeNumber'].count().plot(figsize =(25,5), xticks=df_data.AgeNumber.unique())"
   ]
  },
  {
   "cell_type": "code",
   "execution_count": 281,
   "metadata": {},
   "outputs": [
    {
     "data": {
      "image/png": "[encoded data removed]",
      "text/plain": [
       "<matplotlib.figure.Figure at 0x1dddfaa6898>"
      ]
     },
     "metadata": {},
     "output_type": "display_data"
    }
   ],
   "source": [
    "df_adopted = df_data.loc[df_data['OutcomeType']=='Died']\n",
    "plt = df_adopted.groupby('AgeNumber')['AgeNumber'].count().plot(figsize =(25,5), xticks=df_data.AgeNumber.unique())"
   ]
  },
  {
   "cell_type": "markdown",
   "metadata": {},
   "source": [
    "Younger animals (1y>) have a higher chance to be adopted, animals in age of 1y-3y have a higher chance to return to owner (probably because in 1st year they were with the owner.\n",
    "Euthanasia is suprisingly matching the trend (i'd expect younger animals to be more healthy)\n",
    "All outcomes have a peak in the 10th year which can probably relate to some procedures in the shelter at the age of 10."
   ]
  },
  {
   "cell_type": "markdown",
   "metadata": {},
   "source": [
    " "
   ]
  },
  {
   "cell_type": "markdown",
   "metadata": {},
   "source": [
    "# SubOutcome "
   ]
  },
  {
   "cell_type": "code",
   "execution_count": 282,
   "metadata": {},
   "outputs": [
    {
     "data": {
      "text/html": [
       "<div>\n",
       "<style scoped>\n",
       "    .dataframe tbody tr th:only-of-type {\n",
       "        vertical-align: middle;\n",
       "    }\n",
       "\n",
       "    .dataframe tbody tr th {\n",
       "        vertical-align: top;\n",
       "    }\n",
       "\n",
       "    .dataframe thead th {\n",
       "        text-align: right;\n",
       "    }\n",
       "</style>\n",
       "<table border=\"1\" class=\"dataframe\">\n",
       "  <thead>\n",
       "    <tr style=\"text-align: right;\">\n",
       "      <th></th>\n",
       "      <th>col_0</th>\n",
       "      <th>count</th>\n",
       "    </tr>\n",
       "    <tr>\n",
       "      <th>OutcomeType</th>\n",
       "      <th>OutcomeSubtype</th>\n",
       "      <th></th>\n",
       "    </tr>\n",
       "  </thead>\n",
       "  <tbody>\n",
       "    <tr>\n",
       "      <th rowspan=\"3\" valign=\"top\">Adoption</th>\n",
       "      <th>Barn</th>\n",
       "      <td>1</td>\n",
       "    </tr>\n",
       "    <tr>\n",
       "      <th>Foster</th>\n",
       "      <td>1800</td>\n",
       "    </tr>\n",
       "    <tr>\n",
       "      <th>Offsite</th>\n",
       "      <td>165</td>\n",
       "    </tr>\n",
       "    <tr>\n",
       "      <th rowspan=\"5\" valign=\"top\">Died</th>\n",
       "      <th>At Vet</th>\n",
       "      <td>4</td>\n",
       "    </tr>\n",
       "    <tr>\n",
       "      <th>Enroute</th>\n",
       "      <td>8</td>\n",
       "    </tr>\n",
       "    <tr>\n",
       "      <th>In Foster</th>\n",
       "      <td>52</td>\n",
       "    </tr>\n",
       "    <tr>\n",
       "      <th>In Kennel</th>\n",
       "      <td>114</td>\n",
       "    </tr>\n",
       "    <tr>\n",
       "      <th>In Surgery</th>\n",
       "      <td>3</td>\n",
       "    </tr>\n",
       "    <tr>\n",
       "      <th rowspan=\"6\" valign=\"top\">Euthanasia</th>\n",
       "      <th>Aggressive</th>\n",
       "      <td>320</td>\n",
       "    </tr>\n",
       "    <tr>\n",
       "      <th>Behavior</th>\n",
       "      <td>86</td>\n",
       "    </tr>\n",
       "    <tr>\n",
       "      <th>Court/Investigation</th>\n",
       "      <td>6</td>\n",
       "    </tr>\n",
       "    <tr>\n",
       "      <th>Medical</th>\n",
       "      <td>66</td>\n",
       "    </tr>\n",
       "    <tr>\n",
       "      <th>Rabies Risk</th>\n",
       "      <td>74</td>\n",
       "    </tr>\n",
       "    <tr>\n",
       "      <th>Suffering</th>\n",
       "      <td>1000</td>\n",
       "    </tr>\n",
       "    <tr>\n",
       "      <th rowspan=\"3\" valign=\"top\">Transfer</th>\n",
       "      <th>Barn</th>\n",
       "      <td>1</td>\n",
       "    </tr>\n",
       "    <tr>\n",
       "      <th>Partner</th>\n",
       "      <td>7816</td>\n",
       "    </tr>\n",
       "    <tr>\n",
       "      <th>SCRP</th>\n",
       "      <td>1583</td>\n",
       "    </tr>\n",
       "  </tbody>\n",
       "</table>\n",
       "</div>"
      ],
      "text/plain": [
       "col_0                            count\n",
       "OutcomeType OutcomeSubtype            \n",
       "Adoption    Barn                     1\n",
       "            Foster                1800\n",
       "            Offsite                165\n",
       "Died        At Vet                   4\n",
       "            Enroute                  8\n",
       "            In Foster               52\n",
       "            In Kennel              114\n",
       "            In Surgery               3\n",
       "Euthanasia  Aggressive             320\n",
       "            Behavior                86\n",
       "            Court/Investigation      6\n",
       "            Medical                 66\n",
       "            Rabies Risk             74\n",
       "            Suffering             1000\n",
       "Transfer    Barn                     1\n",
       "            Partner               7816\n",
       "            SCRP                  1583"
      ]
     },
     "execution_count": 282,
     "metadata": {},
     "output_type": "execute_result"
    }
   ],
   "source": [
    "pd.crosstab(index=[df_data.OutcomeType,df_data.OutcomeSubtype],columns='count')"
   ]
  },
  {
   "cell_type": "markdown",
   "metadata": {},
   "source": [
    "For every Outcome there is atleast 1 very major SubOutcome. (Adopton-foster/Offsite, Died-Kennel/Foster, Euthanasia-suffering/aggressive, Transfer - Partner/SCRP)"
   ]
  },
  {
   "cell_type": "code",
   "execution_count": 283,
   "metadata": {},
   "outputs": [],
   "source": [
    "df_data['named_animal'] = np.where(df_data['Name'].isnull(),'No name','Named')"
   ]
  },
  {
   "cell_type": "code",
   "execution_count": 284,
   "metadata": {},
   "outputs": [
    {
     "data": {
      "text/html": [
       "<div>\n",
       "<style scoped>\n",
       "    .dataframe tbody tr th:only-of-type {\n",
       "        vertical-align: middle;\n",
       "    }\n",
       "\n",
       "    .dataframe tbody tr th {\n",
       "        vertical-align: top;\n",
       "    }\n",
       "\n",
       "    .dataframe thead th {\n",
       "        text-align: right;\n",
       "    }\n",
       "</style>\n",
       "<table border=\"1\" class=\"dataframe\">\n",
       "  <thead>\n",
       "    <tr style=\"text-align: right;\">\n",
       "      <th>OutcomeType</th>\n",
       "      <th>Adoption</th>\n",
       "      <th>Died</th>\n",
       "      <th>Euthanasia</th>\n",
       "      <th>Return_to_owner</th>\n",
       "      <th>Transfer</th>\n",
       "    </tr>\n",
       "    <tr>\n",
       "      <th>named_animal</th>\n",
       "      <th></th>\n",
       "      <th></th>\n",
       "      <th></th>\n",
       "      <th></th>\n",
       "      <th></th>\n",
       "    </tr>\n",
       "  </thead>\n",
       "  <tbody>\n",
       "    <tr>\n",
       "      <th>Named</th>\n",
       "      <td>0.844182</td>\n",
       "      <td>0.390863</td>\n",
       "      <td>0.476497</td>\n",
       "      <td>0.968025</td>\n",
       "      <td>0.478099</td>\n",
       "    </tr>\n",
       "    <tr>\n",
       "      <th>No name</th>\n",
       "      <td>0.155818</td>\n",
       "      <td>0.609137</td>\n",
       "      <td>0.523503</td>\n",
       "      <td>0.031975</td>\n",
       "      <td>0.521901</td>\n",
       "    </tr>\n",
       "  </tbody>\n",
       "</table>\n",
       "</div>"
      ],
      "text/plain": [
       "OutcomeType   Adoption      Died  Euthanasia  Return_to_owner  Transfer\n",
       "named_animal                                                           \n",
       "Named         0.844182  0.390863    0.476497         0.968025  0.478099\n",
       "No name       0.155818  0.609137    0.523503         0.031975  0.521901"
      ]
     },
     "execution_count": 284,
     "metadata": {},
     "output_type": "execute_result"
    }
   ],
   "source": [
    "pd.crosstab(index=df_data.named_animal, columns=df_data.OutcomeType,normalize='columns')"
   ]
  },
  {
   "cell_type": "code",
   "execution_count": 285,
   "metadata": {},
   "outputs": [],
   "source": [
    "df_data['Mixed'] = df_data.Breed.str.contains('Mix')"
   ]
  },
  {
   "cell_type": "code",
   "execution_count": 286,
   "metadata": {},
   "outputs": [
    {
     "data": {
      "text/html": [
       "<div>\n",
       "<style scoped>\n",
       "    .dataframe tbody tr th:only-of-type {\n",
       "        vertical-align: middle;\n",
       "    }\n",
       "\n",
       "    .dataframe tbody tr th {\n",
       "        vertical-align: top;\n",
       "    }\n",
       "\n",
       "    .dataframe thead th {\n",
       "        text-align: right;\n",
       "    }\n",
       "</style>\n",
       "<table border=\"1\" class=\"dataframe\">\n",
       "  <thead>\n",
       "    <tr style=\"text-align: right;\">\n",
       "      <th></th>\n",
       "      <th>Name</th>\n",
       "      <th>DateTime</th>\n",
       "      <th>OutcomeType</th>\n",
       "      <th>OutcomeSubtype</th>\n",
       "      <th>AnimalType</th>\n",
       "      <th>SexuponOutcome</th>\n",
       "      <th>AgeuponOutcome</th>\n",
       "      <th>Breed</th>\n",
       "      <th>Color</th>\n",
       "      <th>AgeNumber</th>\n",
       "      <th>named_animal</th>\n",
       "    </tr>\n",
       "    <tr>\n",
       "      <th>Mixed</th>\n",
       "      <th></th>\n",
       "      <th></th>\n",
       "      <th></th>\n",
       "      <th></th>\n",
       "      <th></th>\n",
       "      <th></th>\n",
       "      <th></th>\n",
       "      <th></th>\n",
       "      <th></th>\n",
       "      <th></th>\n",
       "      <th></th>\n",
       "    </tr>\n",
       "  </thead>\n",
       "  <tbody>\n",
       "    <tr>\n",
       "      <th>False</th>\n",
       "      <td>3690</td>\n",
       "      <td>4430</td>\n",
       "      <td>4430</td>\n",
       "      <td>1653</td>\n",
       "      <td>4430</td>\n",
       "      <td>4430</td>\n",
       "      <td>4430</td>\n",
       "      <td>4430</td>\n",
       "      <td>4430</td>\n",
       "      <td>4430</td>\n",
       "      <td>4430</td>\n",
       "    </tr>\n",
       "    <tr>\n",
       "      <th>True</th>\n",
       "      <td>15347</td>\n",
       "      <td>22280</td>\n",
       "      <td>22280</td>\n",
       "      <td>11446</td>\n",
       "      <td>22280</td>\n",
       "      <td>22280</td>\n",
       "      <td>22280</td>\n",
       "      <td>22280</td>\n",
       "      <td>22280</td>\n",
       "      <td>22280</td>\n",
       "      <td>22280</td>\n",
       "    </tr>\n",
       "  </tbody>\n",
       "</table>\n",
       "</div>"
      ],
      "text/plain": [
       "        Name  DateTime  OutcomeType  OutcomeSubtype  AnimalType  \\\n",
       "Mixed                                                             \n",
       "False   3690      4430         4430            1653        4430   \n",
       "True   15347     22280        22280           11446       22280   \n",
       "\n",
       "       SexuponOutcome  AgeuponOutcome  Breed  Color  AgeNumber  named_animal  \n",
       "Mixed                                                                         \n",
       "False            4430            4430   4430   4430       4430          4430  \n",
       "True            22280           22280  22280  22280      22280         22280  "
      ]
     },
     "execution_count": 286,
     "metadata": {},
     "output_type": "execute_result"
    }
   ],
   "source": [
    "df_data.groupby('Mixed').count()"
   ]
  },
  {
   "cell_type": "code",
   "execution_count": 287,
   "metadata": {},
   "outputs": [],
   "source": [
    "df_data['TwoColors'] = df_data.Color.str.contains('/')"
   ]
  },
  {
   "cell_type": "code",
   "execution_count": 288,
   "metadata": {},
   "outputs": [],
   "source": [
    "df_data['Twobreeds'] = df_data.Breed.str.contains('/')"
   ]
  },
  {
   "cell_type": "code",
   "execution_count": 289,
   "metadata": {},
   "outputs": [],
   "source": [
    "df_data['IsMale'] = df_data.SexuponOutcome.str.contains('Male')"
   ]
  },
  {
   "cell_type": "code",
   "execution_count": 290,
   "metadata": {},
   "outputs": [],
   "source": [
    "df_data['IsIntact'] = df_data.SexuponOutcome.str.contains('Intact')"
   ]
  },
  {
   "cell_type": "code",
   "execution_count": 291,
   "metadata": {},
   "outputs": [],
   "source": [
    "df_data['Puppy'] = df_data.AgeNumber <=1"
   ]
  },
  {
   "cell_type": "code",
   "execution_count": 292,
   "metadata": {},
   "outputs": [
    {
     "data": {
      "text/plain": [
       "TwoColors\n",
       "False     8433\n",
       "True     10604\n",
       "Name: Name, dtype: int64"
      ]
     },
     "execution_count": 292,
     "metadata": {},
     "output_type": "execute_result"
    }
   ],
   "source": [
    "df_data.groupby('TwoColors')['Name'].count()"
   ]
  },
  {
   "cell_type": "markdown",
   "metadata": {},
   "source": [
    "Added 2 varibles - if the animal is named or not and if it isa mixed animal"
   ]
  },
  {
   "cell_type": "code",
   "execution_count": 293,
   "metadata": {},
   "outputs": [],
   "source": [
    "# import urllib2\n",
    "# import re \n",
    "import requests \n",
    "from bs4 import BeautifulSoup as bs"
   ]
  },
  {
   "cell_type": "code",
   "execution_count": 294,
   "metadata": {},
   "outputs": [],
   "source": [
    "url = 'https://en.wikipedia.org/wiki/List_of_dog_breeds_recognized_by_the_American_Kennel_Club'"
   ]
  },
  {
   "cell_type": "code",
   "execution_count": 295,
   "metadata": {},
   "outputs": [],
   "source": [
    "resp = requests.get(url)"
   ]
  },
  {
   "cell_type": "code",
   "execution_count": 296,
   "metadata": {},
   "outputs": [],
   "source": [
    "soup = bs(resp.text,'lxml')"
   ]
  },
  {
   "cell_type": "code",
   "execution_count": 297,
   "metadata": {},
   "outputs": [],
   "source": [
    "all_tables=soup.find_all('li')\n",
    "doglist = [i.text for i in all_tables]\n",
    "doglist_split = [i.split(',') for i in doglist]\n"
   ]
  },
  {
   "cell_type": "code",
   "execution_count": 298,
   "metadata": {},
   "outputs": [],
   "source": [
    "df_doglist = pd.DataFrame(doglist_split,columns=['Dog','DogGroup','col3','col4'])"
   ]
  },
  {
   "cell_type": "code",
   "execution_count": 299,
   "metadata": {},
   "outputs": [],
   "source": [
    "df_doglist.drop([0,1,2,3,4,5,6,7,8,9,10,11,12,13,14,15,16,17,18,19,20,21,22,23,24,25], inplace=True)\n",
    "df_doglist.drop(['col3','col4'],axis=1,inplace=True)"
   ]
  },
  {
   "cell_type": "code",
   "execution_count": 300,
   "metadata": {},
   "outputs": [
    {
     "data": {
      "text/html": [
       "<div>\n",
       "<style scoped>\n",
       "    .dataframe tbody tr th:only-of-type {\n",
       "        vertical-align: middle;\n",
       "    }\n",
       "\n",
       "    .dataframe tbody tr th {\n",
       "        vertical-align: top;\n",
       "    }\n",
       "\n",
       "    .dataframe thead th {\n",
       "        text-align: right;\n",
       "    }\n",
       "</style>\n",
       "<table border=\"1\" class=\"dataframe\">\n",
       "  <thead>\n",
       "    <tr style=\"text-align: right;\">\n",
       "      <th></th>\n",
       "      <th>Dog</th>\n",
       "      <th>DogGroup</th>\n",
       "    </tr>\n",
       "  </thead>\n",
       "  <tbody>\n",
       "    <tr>\n",
       "      <th>26</th>\n",
       "      <td>Affenpinscher</td>\n",
       "      <td>Toy</td>\n",
       "    </tr>\n",
       "    <tr>\n",
       "      <th>27</th>\n",
       "      <td>Afghan Hound</td>\n",
       "      <td>Hound</td>\n",
       "    </tr>\n",
       "    <tr>\n",
       "      <th>28</th>\n",
       "      <td>Airedale Terrier</td>\n",
       "      <td>Terrier</td>\n",
       "    </tr>\n",
       "    <tr>\n",
       "      <th>29</th>\n",
       "      <td>Akita</td>\n",
       "      <td>Working</td>\n",
       "    </tr>\n",
       "    <tr>\n",
       "      <th>30</th>\n",
       "      <td>Alaskan Malamute</td>\n",
       "      <td>Working</td>\n",
       "    </tr>\n",
       "  </tbody>\n",
       "</table>\n",
       "</div>"
      ],
      "text/plain": [
       "                 Dog  DogGroup\n",
       "26     Affenpinscher       Toy\n",
       "27      Afghan Hound     Hound\n",
       "28  Airedale Terrier   Terrier\n",
       "29             Akita   Working\n",
       "30  Alaskan Malamute   Working"
      ]
     },
     "execution_count": 300,
     "metadata": {},
     "output_type": "execute_result"
    }
   ],
   "source": [
    "df_doglist.head()"
   ]
  },
  {
   "cell_type": "code",
   "execution_count": 308,
   "metadata": {},
   "outputs": [],
   "source": [
    "df_data = df_data.merge(df_doglist, left_on='Breed', right_on='Dog', how='left')"
   ]
  },
  {
   "cell_type": "code",
   "execution_count": 312,
   "metadata": {},
   "outputs": [],
   "source": [
    "df_data = df_data.drop('Dog',axis=1)"
   ]
  },
  {
   "cell_type": "code",
   "execution_count": 320,
   "metadata": {},
   "outputs": [],
   "source": [
    "from sklearn.model_selection import train_test_split as split\n",
    "from sklearn.metrics import confusion_matrix,  classification_report \n",
    "from sklearn.metrics import accuracy_score\n",
    "from sklearn.tree import DecisionTreeClassifier,  export_graphviz \n",
    "from sklearn.linear_model import LogisticRegression\n",
    "from sklearn.neighbors import KNeighborsClassifier\n",
    "from sklearn.svm import SVC\n",
    "import warnings"
   ]
  },
  {
   "cell_type": "code",
   "execution_count": 341,
   "metadata": {},
   "outputs": [
    {
     "data": {
      "text/html": [
       "<div>\n",
       "<style scoped>\n",
       "    .dataframe tbody tr th:only-of-type {\n",
       "        vertical-align: middle;\n",
       "    }\n",
       "\n",
       "    .dataframe tbody tr th {\n",
       "        vertical-align: top;\n",
       "    }\n",
       "\n",
       "    .dataframe thead th {\n",
       "        text-align: right;\n",
       "    }\n",
       "</style>\n",
       "<table border=\"1\" class=\"dataframe\">\n",
       "  <thead>\n",
       "    <tr style=\"text-align: right;\">\n",
       "      <th></th>\n",
       "      <th>OutcomeType</th>\n",
       "      <th>AnimalType</th>\n",
       "      <th>Color</th>\n",
       "      <th>AgeNumber</th>\n",
       "      <th>named_animal</th>\n",
       "      <th>Mixed</th>\n",
       "      <th>TwoColors</th>\n",
       "      <th>Twobreeds</th>\n",
       "      <th>IsMale</th>\n",
       "      <th>IsIntact</th>\n",
       "      <th>Puppy</th>\n",
       "    </tr>\n",
       "  </thead>\n",
       "  <tbody>\n",
       "    <tr>\n",
       "      <th>0</th>\n",
       "      <td>Return_to_owner</td>\n",
       "      <td>Dog</td>\n",
       "      <td>Brown/White</td>\n",
       "      <td>1.0</td>\n",
       "      <td>Named</td>\n",
       "      <td>True</td>\n",
       "      <td>True</td>\n",
       "      <td>False</td>\n",
       "      <td>True</td>\n",
       "      <td>False</td>\n",
       "      <td>True</td>\n",
       "    </tr>\n",
       "  </tbody>\n",
       "</table>\n",
       "</div>"
      ],
      "text/plain": [
       "       OutcomeType AnimalType        Color  AgeNumber named_animal  Mixed  \\\n",
       "0  Return_to_owner        Dog  Brown/White        1.0        Named   True   \n",
       "\n",
       "   TwoColors  Twobreeds  IsMale  IsIntact  Puppy  \n",
       "0       True      False    True     False   True  "
      ]
     },
     "execution_count": 341,
     "metadata": {},
     "output_type": "execute_result"
    }
   ],
   "source": [
    "df_data_vars = df_data.drop(['Name','DateTime','OutcomeSubtype','AgeuponOutcome','Breed','SexuponOutcome','DogGroup'], axis=1)\n",
    "df_data_vars.head(1)"
   ]
  },
  {
   "cell_type": "markdown",
   "metadata": {},
   "source": [
    "DogGroup was not included in model as itseverly damaged results (5-10%) probably due to low match amount from wiki database\n",
    "splitting the breed into 2 columns according to breed may improve results"
   ]
  },
  {
   "cell_type": "code",
   "execution_count": 342,
   "metadata": {},
   "outputs": [],
   "source": [
    "df_data_dummies = pd.get_dummies(df_data_vars, columns=['AnimalType','Color','AgeNumber','named_animal','Mixed','TwoColors'\n",
    "                                                        ,'Twobreeds','Puppy','IsMale','IsIntact'])"
   ]
  },
  {
   "cell_type": "code",
   "execution_count": 343,
   "metadata": {},
   "outputs": [
    {
     "name": "stderr",
     "output_type": "stream",
     "text": [
      "C:\\Users\\ori\\Anaconda3\\lib\\site-packages\\sklearn\\model_selection\\_split.py:2026: FutureWarning: From version 0.21, test_size will always complement train_size unless both are specified.\n",
      "  FutureWarning)\n"
     ]
    }
   ],
   "source": [
    "data_train, data_test = split(df_data_dummies, train_size=0.8) "
   ]
  },
  {
   "cell_type": "code",
   "execution_count": 344,
   "metadata": {},
   "outputs": [],
   "source": [
    "X_train = data_train.drop(['OutcomeType'], axis=1)\n",
    "y_train = data_train['OutcomeType']"
   ]
  },
  {
   "cell_type": "code",
   "execution_count": 345,
   "metadata": {},
   "outputs": [],
   "source": [
    "model = DecisionTreeClassifier(max_depth=10, min_samples_split=10)"
   ]
  },
  {
   "cell_type": "code",
   "execution_count": 346,
   "metadata": {},
   "outputs": [
    {
     "data": {
      "text/plain": [
       "DecisionTreeClassifier(class_weight=None, criterion='gini', max_depth=10,\n",
       "            max_features=None, max_leaf_nodes=None,\n",
       "            min_impurity_decrease=0.0, min_impurity_split=None,\n",
       "            min_samples_leaf=1, min_samples_split=10,\n",
       "            min_weight_fraction_leaf=0.0, presort=False, random_state=None,\n",
       "            splitter='best')"
      ]
     },
     "execution_count": 346,
     "metadata": {},
     "output_type": "execute_result"
    }
   ],
   "source": [
    "model.fit(X_train, y_train)"
   ]
  },
  {
   "cell_type": "code",
   "execution_count": 347,
   "metadata": {},
   "outputs": [
    {
     "name": "stderr",
     "output_type": "stream",
     "text": [
      "C:\\Users\\ori\\Anaconda3\\lib\\site-packages\\ipykernel_launcher.py:1: SettingWithCopyWarning: \n",
      "A value is trying to be set on a copy of a slice from a DataFrame.\n",
      "Try using .loc[row_indexer,col_indexer] = value instead\n",
      "\n",
      "See the caveats in the documentation: http://pandas.pydata.org/pandas-docs/stable/indexing.html#indexing-view-versus-copy\n",
      "  \"\"\"Entry point for launching an IPython kernel.\n"
     ]
    }
   ],
   "source": [
    "data_train['predictedDTC'] = model.predict(X_train)"
   ]
  },
  {
   "cell_type": "code",
   "execution_count": 348,
   "metadata": {},
   "outputs": [
    {
     "name": "stdout",
     "output_type": "stream",
     "text": [
      "0.6628603519281168\n"
     ]
    }
   ],
   "source": [
    "print(model.score(X_train, y_train))"
   ]
  },
  {
   "cell_type": "code",
   "execution_count": 349,
   "metadata": {},
   "outputs": [],
   "source": [
    "X_test = data_test.drop(['OutcomeType'], axis=1)\n",
    "y_test = data_test['OutcomeType']"
   ]
  },
  {
   "cell_type": "code",
   "execution_count": 350,
   "metadata": {},
   "outputs": [
    {
     "name": "stdout",
     "output_type": "stream",
     "text": [
      "0.6301010857356795\n"
     ]
    }
   ],
   "source": [
    "print(model.score(X_test, y_test))"
   ]
  },
  {
   "cell_type": "code",
   "execution_count": 351,
   "metadata": {},
   "outputs": [
    {
     "name": "stdout",
     "output_type": "stream",
     "text": [
      "0.6447491576188693\n",
      "0.6280419318607263\n"
     ]
    }
   ],
   "source": [
    "model2 = LogisticRegression()\n",
    "model2.fit(X_train, y_train)\n",
    "data_train = data_train.drop('predictedDTC', axis=1)\n",
    "data_train['predictedDTC'] = model2.predict(X_train)\n",
    "print(model2.score(X_train, y_train))\n",
    "X_test = data_test.drop(['OutcomeType'], axis=1)\n",
    "y_test = data_test['OutcomeType']\n",
    "print(model2.score(X_test, y_test))"
   ]
  },
  {
   "cell_type": "code",
   "execution_count": 352,
   "metadata": {},
   "outputs": [],
   "source": [
    "def evaluate_model(**kwargs):\n",
    "    \n",
    "    modelkw = DecisionTreeClassifier(**kwargs).fit(X_train, y_train)\n",
    "\n",
    "    train_acc = accuracy_score(\n",
    "        y_true=data_train.OutcomeType,\n",
    "        y_pred=modelkw.predict(X_train))\n",
    "    test_acc = accuracy_score(\n",
    "        y_true=data_test.OutcomeType,\n",
    "        y_pred=modelkw.predict(data_test.drop('OutcomeType', axis=1)))\n",
    "    \n",
    "    print(\"Train accuracy: {:.4f}\".format(train_acc))\n",
    "    print(\"Test accuracy : {:.4f}\".format(test_acc))\n",
    "    print()"
   ]
  },
  {
   "cell_type": "code",
   "execution_count": 353,
   "metadata": {},
   "outputs": [
    {
     "name": "stdout",
     "output_type": "stream",
     "text": [
      "Train accuracy: 0.6490\n",
      "Test accuracy : 0.6329\n",
      "\n",
      "Train accuracy: 0.6513\n",
      "Test accuracy : 0.6325\n",
      "\n",
      "Train accuracy: 0.6532\n",
      "Test accuracy : 0.6353\n",
      "\n",
      "Train accuracy: 0.6543\n",
      "Test accuracy : 0.6338\n",
      "\n"
     ]
    }
   ],
   "source": [
    "evaluate_model(max_depth=8, min_samples_split=10, min_samples_leaf=10)\n",
    "evaluate_model(max_depth=9, min_samples_split=10, min_samples_leaf=10)\n",
    "evaluate_model(max_depth=10, min_samples_split=10, min_samples_leaf=10)\n",
    "evaluate_model(max_depth=11, min_samples_split=10, min_samples_leaf=10)"
   ]
  },
  {
   "cell_type": "code",
   "execution_count": 354,
   "metadata": {},
   "outputs": [
    {
     "name": "stdout",
     "output_type": "stream",
     "text": [
      "Train accuracy: 0.6513\n",
      "Test accuracy : 0.6327\n",
      "\n",
      "Train accuracy: 0.6513\n",
      "Test accuracy : 0.6327\n",
      "\n",
      "Train accuracy: 0.6513\n",
      "Test accuracy : 0.6327\n",
      "\n",
      "Train accuracy: 0.6513\n",
      "Test accuracy : 0.6327\n",
      "\n"
     ]
    }
   ],
   "source": [
    "evaluate_model(max_depth=9, min_samples_split=70, min_samples_leaf=8)\n",
    "evaluate_model(max_depth=9, min_samples_split=70, min_samples_leaf=8)\n",
    "evaluate_model(max_depth=9, min_samples_split=70, min_samples_leaf=8)\n",
    "evaluate_model(max_depth=9, min_samples_split=70, min_samples_leaf=8)"
   ]
  },
  {
   "cell_type": "code",
   "execution_count": 355,
   "metadata": {},
   "outputs": [
    {
     "name": "stdout",
     "output_type": "stream",
     "text": [
      "Train accuracy: 0.6545\n",
      "Test accuracy : 0.6357\n",
      "\n",
      "Train accuracy: 0.6545\n",
      "Test accuracy : 0.6357\n",
      "\n",
      "Train accuracy: 0.6545\n",
      "Test accuracy : 0.6357\n",
      "\n",
      "Train accuracy: 0.6530\n",
      "Test accuracy : 0.6348\n",
      "\n"
     ]
    }
   ],
   "source": [
    "evaluate_model(max_depth=10, min_samples_split=9, min_samples_leaf=8)\n",
    "evaluate_model(max_depth=10, min_samples_split=10, min_samples_leaf=8)\n",
    "evaluate_model(max_depth=10, min_samples_split=11, min_samples_leaf=8)\n",
    "evaluate_model(max_depth=10, min_samples_split=70, min_samples_leaf=8)"
   ]
  },
  {
   "cell_type": "code",
   "execution_count": 123,
   "metadata": {},
   "outputs": [
    {
     "name": "stdout",
     "output_type": "stream",
     "text": [
      "Train accuracy: 0.6530\n",
      "Test accuracy : 0.6447\n",
      "\n"
     ]
    }
   ],
   "source": [
    "evaluate_model(max_depth=10, min_samples_split=70, min_samples_leaf=8)"
   ]
  },
  {
   "cell_type": "code",
   "execution_count": null,
   "metadata": {},
   "outputs": [],
   "source": []
  }
 ],
 "metadata": {
  "kernelspec": {
   "display_name": "Python 3",
   "language": "python",
   "name": "python3"
  },
  "language_info": {
   "codemirror_mode": {
    "name": "ipython",
    "version": 3
   },
   "file_extension": ".py",
   "mimetype": "text/x-python",
   "name": "python",
   "nbconvert_exporter": "python",
   "pygments_lexer": "ipython3",
   "version": "3.6.4"
  }
 },
 "nbformat": 4,
 "nbformat_minor": 2
}
